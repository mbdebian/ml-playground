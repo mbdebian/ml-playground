{
 "cells": [
  {
   "cell_type": "code",
   "execution_count": 1,
   "metadata": {},
   "outputs": [
    {
     "name": "stdout",
     "output_type": "stream",
     "text": [
      "Random number: 0.45034559405659835\n"
     ]
    }
   ],
   "source": [
    "import numpy as np\n",
    "\n",
    "x = np.random.random()\n",
    "print(\"Random number: {}\".format(x))"
   ]
  },
  {
   "cell_type": "code",
   "execution_count": 2,
   "metadata": {},
   "outputs": [
    {
     "name": "stdout",
     "output_type": "stream",
     "text": [
      "Square root of 0.45034559405659835 is 0.6710779344134319\n"
     ]
    }
   ],
   "source": [
    "print(\"Square root of {} is {}\".format(x, np.sqrt(x)))"
   ]
  },
  {
   "cell_type": "code",
   "execution_count": 3,
   "metadata": {},
   "outputs": [
    {
     "name": "stdout",
     "output_type": "stream",
     "text": [
      "x^sqrt(x) = 0.5854668509488271\n"
     ]
    }
   ],
   "source": [
    "print(\"x^sqrt(x) = {}\".format(np.power(x, np.sqrt(x))))"
   ]
  },
  {
   "cell_type": "code",
   "execution_count": 4,
   "metadata": {},
   "outputs": [
    {
     "name": "stdout",
     "output_type": "stream",
     "text": [
      "Random matrix [0.37700016 0.68107512 0.56497113]\n"
     ]
    }
   ],
   "source": [
    "matrix = np.random.random(3)\n",
    "print(\"Random matrix {}\".format(matrix))"
   ]
  },
  {
   "cell_type": "code",
   "execution_count": 5,
   "metadata": {},
   "outputs": [
    {
     "name": "stdout",
     "output_type": "stream",
     "text": [
      "New Matrix [0.37700016 0.68107512 0.56497113 0.30234128 0.78433107]\n"
     ]
    }
   ],
   "source": [
    "matrix = np.append(matrix, np.random.random(2))\n",
    "print(\"New Matrix {}\".format(matrix))"
   ]
  },
  {
   "cell_type": "code",
   "execution_count": 6,
   "metadata": {},
   "outputs": [
    {
     "name": "stdout",
     "output_type": "stream",
     "text": [
      "Sine of matrix -> [0.36813296 0.62962864 0.53539143 0.2977561  0.70635183]\n"
     ]
    }
   ],
   "source": [
    "print(\"Sine of matrix -> {}\".format(np.sin(matrix)))"
   ]
  },
  {
   "cell_type": "code",
   "execution_count": null,
   "metadata": {},
   "outputs": [],
   "source": [
    "# Tour of Numpy\n"
   ]
  }
 ],
 "metadata": {
  "kernelspec": {
   "display_name": "Python 3",
   "language": "python",
   "name": "python3"
  },
  "language_info": {
   "codemirror_mode": {
    "name": "ipython",
    "version": 3
   },
   "file_extension": ".py",
   "mimetype": "text/x-python",
   "name": "python",
   "nbconvert_exporter": "python",
   "pygments_lexer": "ipython3",
   "version": "3.6.5"
  }
 },
 "nbformat": 4,
 "nbformat_minor": 2
}
