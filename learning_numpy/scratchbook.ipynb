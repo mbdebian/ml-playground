{
 "cells": [
  {
   "cell_type": "code",
   "execution_count": 1,
   "metadata": {},
   "outputs": [
    {
     "name": "stdout",
     "output_type": "stream",
     "text": [
      "Random number: 0.45034559405659835\n"
     ]
    }
   ],
   "source": [
    "import numpy as np\n",
    "\n",
    "x = np.random.random()\n",
    "print(\"Random number: {}\".format(x))"
   ]
  },
  {
   "cell_type": "code",
   "execution_count": 2,
   "metadata": {},
   "outputs": [
    {
     "name": "stdout",
     "output_type": "stream",
     "text": [
      "Square root of 0.45034559405659835 is 0.6710779344134319\n"
     ]
    }
   ],
   "source": [
    "print(\"Square root of {} is {}\".format(x, np.sqrt(x)))"
   ]
  },
  {
   "cell_type": "code",
   "execution_count": 3,
   "metadata": {},
   "outputs": [
    {
     "name": "stdout",
     "output_type": "stream",
     "text": [
      "x^sqrt(x) = 0.5854668509488271\n"
     ]
    }
   ],
   "source": [
    "print(\"x^sqrt(x) = {}\".format(np.power(x, np.sqrt(x))))"
   ]
  },
  {
   "cell_type": "code",
   "execution_count": 4,
   "metadata": {},
   "outputs": [
    {
     "name": "stdout",
     "output_type": "stream",
     "text": [
      "Random matrix [0.37700016 0.68107512 0.56497113]\n"
     ]
    }
   ],
   "source": [
    "matrix = np.random.random(3)\n",
    "print(\"Random matrix {}\".format(matrix))"
   ]
  },
  {
   "cell_type": "code",
   "execution_count": 5,
   "metadata": {},
   "outputs": [
    {
     "name": "stdout",
     "output_type": "stream",
     "text": [
      "New Matrix [0.37700016 0.68107512 0.56497113 0.30234128 0.78433107]\n"
     ]
    }
   ],
   "source": [
    "matrix = np.append(matrix, np.random.random(2))\n",
    "print(\"New Matrix {}\".format(matrix))"
   ]
  },
  {
   "cell_type": "code",
   "execution_count": 6,
   "metadata": {},
   "outputs": [
    {
     "name": "stdout",
     "output_type": "stream",
     "text": [
      "Sine of matrix -> [0.36813296 0.62962864 0.53539143 0.2977561  0.70635183]\n"
     ]
    }
   ],
   "source": [
    "print(\"Sine of matrix -> {}\".format(np.sin(matrix)))"
   ]
  },
  {
   "cell_type": "code",
   "execution_count": 7,
   "metadata": {},
   "outputs": [
    {
     "name": "stdout",
     "output_type": "stream",
     "text": [
      "M = [ 0  1  5  6 80]\n"
     ]
    }
   ],
   "source": [
    "# Tour of Numpy\n",
    "mvalues = [0,1,5,6,80]\n",
    "M = np.array(mvalues)\n",
    "print(\"M = {}\".format(M))"
   ]
  },
  {
   "cell_type": "code",
   "execution_count": 8,
   "metadata": {},
   "outputs": [
    {
     "data": {
      "text/plain": [
       "array([ 0,  1,  5,  6, 80])"
      ]
     },
     "execution_count": 8,
     "metadata": {},
     "output_type": "execute_result"
    }
   ],
   "source": [
    "M"
   ]
  },
  {
   "cell_type": "code",
   "execution_count": 9,
   "metadata": {},
   "outputs": [
    {
     "data": {
      "text/plain": [
       "[0, 1, 5, 6, 80]"
      ]
     },
     "execution_count": 9,
     "metadata": {},
     "output_type": "execute_result"
    }
   ],
   "source": [
    "mvalues"
   ]
  },
  {
   "cell_type": "code",
   "execution_count": 10,
   "metadata": {},
   "outputs": [
    {
     "name": "stdout",
     "output_type": "stream",
     "text": [
      "[   0.       39.3701  196.8505  236.2206 3149.608 ]\n"
     ]
    }
   ],
   "source": [
    "print(M * 39.3701) # Conversion to inches"
   ]
  },
  {
   "cell_type": "code",
   "execution_count": 11,
   "metadata": {},
   "outputs": [
    {
     "name": "stdout",
     "output_type": "stream",
     "text": [
      "[ 0  1  5  6 80]\n"
     ]
    }
   ],
   "source": [
    "print(M)"
   ]
  },
  {
   "cell_type": "code",
   "execution_count": 12,
   "metadata": {},
   "outputs": [
    {
     "data": {
      "text/plain": [
       "array([   0.    ,   39.3701,  196.8505,  236.2206, 3149.608 ])"
      ]
     },
     "execution_count": 12,
     "metadata": {},
     "output_type": "execute_result"
    }
   ],
   "source": [
    "M * 39.3701"
   ]
  },
  {
   "cell_type": "code",
   "execution_count": 14,
   "metadata": {},
   "outputs": [],
   "source": [
    "x = np.arange(20, 104.75, 3.6)"
   ]
  },
  {
   "cell_type": "code",
   "execution_count": 15,
   "metadata": {},
   "outputs": [
    {
     "data": {
      "text/plain": [
       "array([ 20. ,  23.6,  27.2,  30.8,  34.4,  38. ,  41.6,  45.2,  48.8,\n",
       "        52.4,  56. ,  59.6,  63.2,  66.8,  70.4,  74. ,  77.6,  81.2,\n",
       "        84.8,  88.4,  92. ,  95.6,  99.2, 102.8])"
      ]
     },
     "execution_count": 15,
     "metadata": {},
     "output_type": "execute_result"
    }
   ],
   "source": [
    "x"
   ]
  },
  {
   "cell_type": "code",
   "execution_count": 16,
   "metadata": {},
   "outputs": [],
   "source": [
    "x = np.linspace(20, 104.75, 10, endpoint=False)"
   ]
  },
  {
   "cell_type": "code",
   "execution_count": 17,
   "metadata": {},
   "outputs": [
    {
     "data": {
      "text/plain": [
       "array([20.   , 28.475, 36.95 , 45.425, 53.9  , 62.375, 70.85 , 79.325,\n",
       "       87.8  , 96.275])"
      ]
     },
     "execution_count": 17,
     "metadata": {},
     "output_type": "execute_result"
    }
   ],
   "source": [
    "x"
   ]
  },
  {
   "cell_type": "code",
   "execution_count": 18,
   "metadata": {},
   "outputs": [
    {
     "data": {
      "text/plain": [
       "10"
      ]
     },
     "execution_count": 18,
     "metadata": {},
     "output_type": "execute_result"
    }
   ],
   "source": [
    "len(x)"
   ]
  },
  {
   "cell_type": "code",
   "execution_count": 19,
   "metadata": {},
   "outputs": [],
   "source": [
    "_, spacing = np.linspace(20, 104.75, 10, retstep=True) # returns the spacing, _ is because we don't care about the actual array now"
   ]
  },
  {
   "cell_type": "code",
   "execution_count": 20,
   "metadata": {},
   "outputs": [
    {
     "data": {
      "text/plain": [
       "9.416666666666666"
      ]
     },
     "execution_count": 20,
     "metadata": {},
     "output_type": "execute_result"
    }
   ],
   "source": [
    "spacing"
   ]
  },
  {
   "cell_type": "code",
   "execution_count": 22,
   "metadata": {},
   "outputs": [
    {
     "name": "stdout",
     "output_type": "stream",
     "text": [
      "x array: [1 2 3 4]\n",
      "the type of x: <class 'numpy.ndarray'>\n",
      "the dimension of x: 1\n"
     ]
    }
   ],
   "source": [
    "x = np.array([1,2,3,4])\n",
    "print(\"x array: {}\".format(x))\n",
    "print(\"the type of x: {}\".format(type(x)))\n",
    "print(\"the dimension of x: {}\".format(np.ndim(x)))"
   ]
  },
  {
   "cell_type": "code",
   "execution_count": 23,
   "metadata": {},
   "outputs": [
    {
     "name": "stdout",
     "output_type": "stream",
     "text": [
      "3D array [[[ 1  2]\n",
      "  [ 3  4]]\n",
      "\n",
      " [[ 5  6]\n",
      "  [ 7  8]]\n",
      "\n",
      " [[ 9 10]\n",
      "  [11 12]]]\n"
     ]
    }
   ],
   "source": [
    "# Tour of Numpy - Part 2\n",
    "x = np.array([\n",
    "    [[1,2], [3,4]],\n",
    "    [[5,6], [7,8]],\n",
    "    [[9,10], [11,12]]\n",
    "])\n",
    "print(\"3D array {}\".format(x))"
   ]
  },
  {
   "cell_type": "code",
   "execution_count": 24,
   "metadata": {},
   "outputs": [
    {
     "name": "stdout",
     "output_type": "stream",
     "text": [
      "number of dimensions: 3\n"
     ]
    }
   ],
   "source": [
    "print(\"number of dimensions: {}\".format(x.ndim)) # number of dimensions"
   ]
  },
  {
   "cell_type": "code",
   "execution_count": 25,
   "metadata": {},
   "outputs": [
    {
     "name": "stdout",
     "output_type": "stream",
     "text": [
      "shape of the array: (3, 2, 2)\n"
     ]
    }
   ],
   "source": [
    "print(\"shape of the array: {}\".format(np.shape(x)))"
   ]
  },
  {
   "cell_type": "code",
   "execution_count": 27,
   "metadata": {},
   "outputs": [
    {
     "name": "stdout",
     "output_type": "stream",
     "text": [
      "Sliced array: 7\n"
     ]
    }
   ],
   "source": [
    "print(\"Sliced array: {}\".format(x[1][1][0]))"
   ]
  },
  {
   "cell_type": "code",
   "execution_count": 28,
   "metadata": {},
   "outputs": [
    {
     "data": {
      "text/plain": [
       "array([[ 0,  1,  2,  3,  4,  5],\n",
       "       [ 6,  7,  8,  9, 10, 11],\n",
       "       [12, 13, 14, 15, 16, 17],\n",
       "       [18, 19, 20, 21, 22, 23]])"
      ]
     },
     "execution_count": 28,
     "metadata": {},
     "output_type": "execute_result"
    }
   ],
   "source": [
    "x = np.arange(24).reshape(4, 6)\n",
    "x"
   ]
  },
  {
   "cell_type": "code",
   "execution_count": 30,
   "metadata": {},
   "outputs": [
    {
     "name": "stdout",
     "output_type": "stream",
     "text": [
      "Take every third item from every second row, [::2, ::3]\n",
      "[[ 0  3]\n",
      " [12 15]]\n"
     ]
    }
   ],
   "source": [
    "print(\"Take every third item from every second row, [::2, ::3]\\n{}\".format(x[::2, ::3]))"
   ]
  },
  {
   "cell_type": "code",
   "execution_count": 31,
   "metadata": {},
   "outputs": [
    {
     "data": {
      "text/plain": [
       "array([[0., 0., 0., 0., 0.],\n",
       "       [0., 0., 0., 0., 0.],\n",
       "       [0., 0., 0., 0., 0.]])"
      ]
     },
     "execution_count": 31,
     "metadata": {},
     "output_type": "execute_result"
    }
   ],
   "source": [
    "# Zero array\n",
    "Z = np.zeros((3, 5))\n",
    "Z"
   ]
  },
  {
   "cell_type": "code",
   "execution_count": 33,
   "metadata": {},
   "outputs": [
    {
     "data": {
      "text/plain": [
       "array([[1., 0., 0., 0.],\n",
       "       [0., 1., 0., 0.],\n",
       "       [0., 0., 1., 0.],\n",
       "       [0., 0., 0., 1.]])"
      ]
     },
     "execution_count": 33,
     "metadata": {},
     "output_type": "execute_result"
    }
   ],
   "source": [
    "# Identity\n",
    "I = np.identity(4)\n",
    "I"
   ]
  },
  {
   "cell_type": "code",
   "execution_count": 34,
   "metadata": {},
   "outputs": [
    {
     "data": {
      "text/plain": [
       "array([[0, 1, 0, 0, 0, 0, 0, 0],\n",
       "       [0, 0, 1, 0, 0, 0, 0, 0],\n",
       "       [0, 0, 0, 1, 0, 0, 0, 0],\n",
       "       [0, 0, 0, 0, 1, 0, 0, 0],\n",
       "       [0, 0, 0, 0, 0, 1, 0, 0]])"
      ]
     },
     "execution_count": 34,
     "metadata": {},
     "output_type": "execute_result"
    }
   ],
   "source": [
    "# k defines position of diagonal. if k = 0, we get ones on [0][0], [1][1] etc... with k = 1, we get them on [0][1], [1][2]...\n",
    "# So we get elements equal to 1 on [i][i+k] where i is row index, and all the other elements are set to 0\n",
    "np.eye(5, 8, k=1, dtype=int)"
   ]
  },
  {
   "cell_type": "code",
   "execution_count": 35,
   "metadata": {},
   "outputs": [
    {
     "data": {
      "text/plain": [
       "array([[1, 0, 0, 0, 0, 0, 0, 0],\n",
       "       [0, 1, 0, 0, 0, 0, 0, 0],\n",
       "       [0, 0, 1, 0, 0, 0, 0, 0],\n",
       "       [0, 0, 0, 1, 0, 0, 0, 0],\n",
       "       [0, 0, 0, 0, 1, 0, 0, 0]])"
      ]
     },
     "execution_count": 35,
     "metadata": {},
     "output_type": "execute_result"
    }
   ],
   "source": [
    "np.eye(5, 8, k=0, dtype=int)"
   ]
  },
  {
   "cell_type": "code",
   "execution_count": 37,
   "metadata": {},
   "outputs": [
    {
     "data": {
      "text/plain": [
       "array([[0., 0.],\n",
       "       [0., 0.]])"
      ]
     },
     "execution_count": 37,
     "metadata": {},
     "output_type": "execute_result"
    }
   ],
   "source": [
    "# More work on Matrices\n",
    "a = np.zeros((2,2))\n",
    "a"
   ]
  },
  {
   "cell_type": "code",
   "execution_count": 38,
   "metadata": {},
   "outputs": [
    {
     "data": {
      "text/plain": [
       "array([[1., 1.]])"
      ]
     },
     "execution_count": 38,
     "metadata": {},
     "output_type": "execute_result"
    }
   ],
   "source": [
    "b = np.ones((1, 2))\n",
    "b"
   ]
  },
  {
   "cell_type": "code",
   "execution_count": 40,
   "metadata": {},
   "outputs": [
    {
     "data": {
      "text/plain": [
       "array([[7., 7.],\n",
       "       [7., 7.]])"
      ]
     },
     "execution_count": 40,
     "metadata": {},
     "output_type": "execute_result"
    }
   ],
   "source": [
    "# Creating a constant array\n",
    "# c = np.full((2, 2), 7)\n",
    "c = np.full((2, 2), 7, np.double)\n",
    "c"
   ]
  },
  {
   "cell_type": "code",
   "execution_count": 41,
   "metadata": {},
   "outputs": [
    {
     "data": {
      "text/plain": [
       "array([[1., 0.],\n",
       "       [0., 1.]])"
      ]
     },
     "execution_count": 41,
     "metadata": {},
     "output_type": "execute_result"
    }
   ],
   "source": [
    "# Identity matrix\n",
    "d = np.eye(2)\n",
    "d"
   ]
  },
  {
   "cell_type": "code",
   "execution_count": 42,
   "metadata": {},
   "outputs": [
    {
     "data": {
      "text/plain": [
       "array([[0.57820511, 0.60663686],\n",
       "       [0.28234751, 0.00578166]])"
      ]
     },
     "execution_count": 42,
     "metadata": {},
     "output_type": "execute_result"
    }
   ],
   "source": [
    "# Random matrix\n",
    "e = np.random.random((2, 2))\n",
    "e"
   ]
  },
  {
   "cell_type": "code",
   "execution_count": 44,
   "metadata": {},
   "outputs": [
    {
     "data": {
      "text/plain": [
       "array([[  1,   2,   3,   4],\n",
       "       [ 11,  22,  33,  44],\n",
       "       [111, 222, 333, 444]])"
      ]
     },
     "execution_count": 44,
     "metadata": {},
     "output_type": "execute_result"
    }
   ],
   "source": [
    "# let's do it by hand\n",
    "f = np.array([[1, 2, 3, 4], [11, 22, 33, 44], [111, 222, 333, 444]])\n",
    "f"
   ]
  },
  {
   "cell_type": "code",
   "execution_count": 45,
   "metadata": {},
   "outputs": [
    {
     "data": {
      "text/plain": [
       "(3, 4)"
      ]
     },
     "execution_count": 45,
     "metadata": {},
     "output_type": "execute_result"
    }
   ],
   "source": [
    "np.shape(f)"
   ]
  },
  {
   "cell_type": "code",
   "execution_count": 49,
   "metadata": {},
   "outputs": [
    {
     "data": {
      "text/plain": [
       "array([[0.62831233, 0.48676947, 0.31615826, 0.97624044, 0.27563509,\n",
       "        0.08894831, 0.63112075, 0.92216499, 0.15927577, 0.02738089,\n",
       "        0.07320255, 0.34904362],\n",
       "       [0.34452585, 0.83720213, 0.47292909, 0.52808402, 0.82992404,\n",
       "        0.66453583, 0.45263729, 0.56939214, 0.24606176, 0.06975375,\n",
       "        0.08240646, 0.54342834],\n",
       "       [0.78535397, 0.72332423, 0.17813296, 0.46934966, 0.80537273,\n",
       "        0.26118456, 0.20004617, 0.25447969, 0.37352888, 0.01615559,\n",
       "        0.15692987, 0.80209506],\n",
       "       [0.68328029, 0.18958071, 0.16213572, 0.40860072, 0.91758647,\n",
       "        0.62766645, 0.14580868, 0.4308944 , 0.40990703, 0.94069238,\n",
       "        0.66798339, 0.55610267],\n",
       "       [0.20454018, 0.2976387 , 0.23267599, 0.91875446, 0.95529967,\n",
       "        0.6505987 , 0.71329758, 0.80978677, 0.94474739, 0.05806697,\n",
       "        0.72837893, 0.998772  ],\n",
       "       [0.91294651, 0.74992402, 0.80649974, 0.46918992, 0.57353426,\n",
       "        0.39097725, 0.33645995, 0.54570965, 0.24329219, 0.01177858,\n",
       "        0.21111739, 0.46578617],\n",
       "       [0.42936448, 0.27462487, 0.20706398, 0.27220826, 0.22638681,\n",
       "        0.59630624, 0.53344523, 0.45332089, 0.14938528, 0.6245983 ,\n",
       "        0.58720435, 0.70100782],\n",
       "       [0.73281175, 0.660993  , 0.023748  , 0.62894553, 0.34603382,\n",
       "        0.85609549, 0.1037432 , 0.10982094, 0.83456115, 0.48252229,\n",
       "        0.55988711, 0.65067745],\n",
       "       [0.76046564, 0.49472806, 0.33699284, 0.40571724, 0.15632672,\n",
       "        0.767779  , 0.93547971, 0.12393138, 0.11171276, 0.39950064,\n",
       "        0.06794902, 0.83096073],\n",
       "       [0.17387857, 0.38541513, 0.94781478, 0.9642572 , 0.9196941 ,\n",
       "        0.24107335, 0.87174075, 0.97441124, 0.84373083, 0.49512451,\n",
       "        0.49047433, 0.55594938],\n",
       "       [0.04619732, 0.96651715, 0.93807161, 0.81294985, 0.23643338,\n",
       "        0.37761062, 0.74491905, 0.84982677, 0.60059398, 0.13554151,\n",
       "        0.86539462, 0.88551753],\n",
       "       [0.65247975, 0.00504238, 0.89286903, 0.80362873, 0.24601523,\n",
       "        0.96454361, 0.32588559, 0.76717101, 0.02335733, 0.89108865,\n",
       "        0.10997749, 0.74569754]])"
      ]
     },
     "execution_count": 49,
     "metadata": {},
     "output_type": "execute_result"
    }
   ],
   "source": [
    "# Standard deviation\n",
    "A = np.random.random((12,12))\n",
    "A"
   ]
  },
  {
   "cell_type": "code",
   "execution_count": 51,
   "metadata": {},
   "outputs": [
    {
     "name": "stdout",
     "output_type": "stream",
     "text": [
      "Standard deviation per row: [0.26857635 0.27622283 0.32711881 0.23579646 0.3090928  0.25653954\n",
      " 0.27131952 0.28954347 0.30494118 0.3288447  0.28262528 0.180626  ]\n"
     ]
    }
   ],
   "source": [
    "print(\"Standard deviation per row: {}\".format(np.std(A, axis=0)))"
   ]
  },
  {
   "cell_type": "code",
   "execution_count": 52,
   "metadata": {},
   "outputs": [
    {
     "name": "stdout",
     "output_type": "stream",
     "text": [
      "Standard deviation per column: [0.30845247 0.24109111 0.27634086 0.25907137 0.32273422 0.25103536\n",
      " 0.18095874 0.2771657  0.29586545 0.2848963  0.31986803 0.35049373]\n"
     ]
    }
   ],
   "source": [
    "print(\"Standard deviation per column: {}\".format(np.std(A, axis=1)))"
   ]
  },
  {
   "cell_type": "code",
   "execution_count": null,
   "metadata": {},
   "outputs": [],
   "source": []
  }
 ],
 "metadata": {
  "kernelspec": {
   "display_name": "Python 3",
   "language": "python",
   "name": "python3"
  },
  "language_info": {
   "codemirror_mode": {
    "name": "ipython",
    "version": 3
   },
   "file_extension": ".py",
   "mimetype": "text/x-python",
   "name": "python",
   "nbconvert_exporter": "python",
   "pygments_lexer": "ipython3",
   "version": "3.6.5"
  }
 },
 "nbformat": 4,
 "nbformat_minor": 2
}
