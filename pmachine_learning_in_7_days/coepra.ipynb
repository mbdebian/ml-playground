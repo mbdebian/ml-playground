{
 "cells": [
  {
   "cell_type": "code",
   "execution_count": 1,
   "metadata": {},
   "outputs": [],
   "source": [
    "# CoEPrA Example\n",
    "import os\n",
    "import numpy as np\n",
    "from sklearn import linear_model\n",
    "from sklearn.metrics import mean_squared_error\n",
    "from sklearn.model_selection import train_test_split\n",
    "from sklearn.model_selection import cross_val_score"
   ]
  },
  {
   "cell_type": "code",
   "execution_count": 3,
   "metadata": {},
   "outputs": [
    {
     "name": "stdout",
     "output_type": "stream",
     "text": [
      "---> Data Shape: (89, 5788)\n"
     ]
    }
   ],
   "source": [
    "source_dataset_path = os.path.join(\"book_code\", \"Section 4\", \"CoEPrA.csv\")\n",
    "with open(source_dataset_path) as raw_data:\n",
    "    data = np.loadtxt(raw_data, delimiter=\",\")\n",
    "print(\"---> Data Shape: {}\".format(data.shape))"
   ]
  },
  {
   "cell_type": "code",
   "execution_count": 5,
   "metadata": {},
   "outputs": [],
   "source": [
    "# Separate independent and dependent variables\n",
    "X = data[:,0:5787]\n",
    "y = data[:,5787]"
   ]
  },
  {
   "cell_type": "code",
   "execution_count": 6,
   "metadata": {},
   "outputs": [
    {
     "name": "stdout",
     "output_type": "stream",
     "text": [
      "---> Data Split for training and testing\n",
      "\tX_training shape '(71, 5787)'\n",
      "\tX_test shape '(18, 5787)'\n",
      "\ty_training shape '(71,)'\n",
      "\ty_test shape '(18,)'\n"
     ]
    }
   ],
   "source": [
    "# Split data into train and test\n",
    "print(\"---> Data Split for training and testing\")\n",
    "X_train, X_test, y_train, y_test = train_test_split(X, y, test_size=0.2, random_state=42)\n",
    "print(\"\\tX_training shape '{}'\".format(X_train.shape))\n",
    "print(\"\\tX_test shape '{}'\".format(X_test.shape))\n",
    "print(\"\\ty_training shape '{}'\".format(y_train.shape))\n",
    "print(\"\\ty_test shape '{}'\".format(y_test.shape))"
   ]
  },
  {
   "cell_type": "code",
   "execution_count": null,
   "metadata": {},
   "outputs": [],
   "source": []
  }
 ],
 "metadata": {
  "kernelspec": {
   "display_name": "Python 3",
   "language": "python",
   "name": "python3"
  },
  "language_info": {
   "codemirror_mode": {
    "name": "ipython",
    "version": 3
   },
   "file_extension": ".py",
   "mimetype": "text/x-python",
   "name": "python",
   "nbconvert_exporter": "python",
   "pygments_lexer": "ipython3",
   "version": "3.7.0"
  }
 },
 "nbformat": 4,
 "nbformat_minor": 2
}
