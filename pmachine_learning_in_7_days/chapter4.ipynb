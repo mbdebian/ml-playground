{
 "cells": [
  {
   "cell_type": "code",
   "execution_count": 1,
   "metadata": {},
   "outputs": [],
   "source": [
    "# Chapter 4 - Improving the models\n",
    "# Classify cat and dog pictures with SVM\n",
    "import os\n",
    "import numpy as np\n",
    "import sklearn as sk\n",
    "from sklearn.svm import SVC"
   ]
  },
  {
   "cell_type": "code",
   "execution_count": 2,
   "metadata": {},
   "outputs": [],
   "source": [
    "# PIL compatibility layer with Pillow-PIL\n",
    "from PIL import Image\n",
    "from PIL import ImageFilter"
   ]
  },
  {
   "cell_type": "code",
   "execution_count": 4,
   "metadata": {},
   "outputs": [
    {
     "name": "stdout",
     "output_type": "stream",
     "text": [
      "#25000 training images, and #12500 testing images.\n",
      "Sample training file 'dog.8011.jpg'\n",
      "Sample testing file '9733.jpg'\n"
     ]
    }
   ],
   "source": [
    "# Get access to the training and testing images\n",
    "dataset_training_dir = 'datasets/cats_vs_dogs/train'\n",
    "dataset_test_dir = 'datasets/cats_vs_dogs/test1'\n",
    "train_images = [item for item in os.listdir(dataset_training_dir)]\n",
    "test_images = [item for item in os.listdir(dataset_test_dir)]\n",
    "print(\"#{} training images, and #{} testing images.\\nSample training file '{}'\\nSample testing file '{}'\".format(len(train_images), len(test_images), train_images[0], test_images[0]))"
   ]
  },
  {
   "cell_type": "code",
   "execution_count": 5,
   "metadata": {},
   "outputs": [],
   "source": [
    "# We go for a labels list\n",
    "labels = []\n",
    "for i in train_images:\n",
    "    if 'dog' in i:\n",
    "        labels.append(1)\n",
    "    else:\n",
    "        labels.append(0)"
   ]
  },
  {
   "cell_type": "code",
   "execution_count": 6,
   "metadata": {},
   "outputs": [
    {
     "name": "stdout",
     "output_type": "stream",
     "text": [
      "Labeling Sample: [1, 0, 1, 0, 0, 0, 1, 0, 0, 1]\n"
     ]
    }
   ],
   "source": [
    "# Print a labeling sample\n",
    "print(\"Labeling Sample: {}\".format(labels[0:10]))"
   ]
  },
  {
   "cell_type": "code",
   "execution_count": null,
   "metadata": {},
   "outputs": [],
   "source": [
    "# Extracting features using the PILLOW library\n",
    "features = []\n",
    "pixel_value = 0\n"
   ]
  }
 ],
 "metadata": {
  "kernelspec": {
   "display_name": "Python 3",
   "language": "python",
   "name": "python3"
  },
  "language_info": {
   "codemirror_mode": {
    "name": "ipython",
    "version": 3
   },
   "file_extension": ".py",
   "mimetype": "text/x-python",
   "name": "python",
   "nbconvert_exporter": "python",
   "pygments_lexer": "ipython3",
   "version": "3.6.6"
  }
 },
 "nbformat": 4,
 "nbformat_minor": 2
}
